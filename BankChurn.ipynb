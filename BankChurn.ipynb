{
 "cells": [
  {
   "cell_type": "markdown",
   "source": [
    "# DSC 540 Machine Learning Project\n",
    "### DSC 540 - Spring 2023\n",
    "### Group Members: Isabelle Choi & Anna-Lisa Vu"
   ],
   "metadata": {
    "collapsed": false
   }
  },
  {
   "cell_type": "markdown",
   "source": [
    "## Bank Churners Problem Statement\n",
    "\n",
    "We decided to do a ML project which predicts whether a customer will leave their bank credit card service.  Amongst the variables used for prediction is:\n",
    "* Age\n",
    "* Salary\n",
    "* Marital_Status\n",
    "* Credit Card Limit\n",
    "* Credit Card Category\n",
    "\n",
    "Additional details on the problem statement (as copied from Kaggle):\n",
    "\"A manager at the bank is disturbed with more and more customers leaving their credit card services. They would really appreciate if one could predict for them who is gonna get churned so they can proactively go to the customer to provide them better services and turn customers' decisions in the opposite direction.\"  This dataset was gathered from Kaggle and can be access through this link: https://www.kaggle.com/datasets/sakshigoyal7/credit-card-customers.\n"
   ],
   "metadata": {
    "collapsed": false
   }
  },
  {
   "cell_type": "code",
   "execution_count": 2,
   "outputs": [],
   "source": [
    "import pandas as pd"
   ],
   "metadata": {
    "collapsed": false
   }
  },
  {
   "cell_type": "code",
   "execution_count": 3,
   "outputs": [],
   "source": [
    "df = pd.read_csv('BankChurners.csv')"
   ],
   "metadata": {
    "collapsed": false
   }
  },
  {
   "cell_type": "code",
   "execution_count": 10,
   "outputs": [
    {
     "data": {
      "text/plain": "Existing Customer    8500\nAttrited Customer    1627\nName: Attrition_Flag, dtype: int64"
     },
     "execution_count": 10,
     "metadata": {},
     "output_type": "execute_result"
    }
   ],
   "source": [
    "df['Attrition_Flag'].value_counts()"
   ],
   "metadata": {
    "collapsed": false
   }
  },
  {
   "cell_type": "markdown",
   "source": [
    "## Data Exploration\n"
   ],
   "metadata": {
    "collapsed": false
   }
  },
  {
   "cell_type": "code",
   "execution_count": 5,
   "outputs": [
    {
     "name": "stdout",
     "output_type": "stream",
     "text": [
      "The data set consists of 10127 rows and 23 columns (features).\n"
     ]
    }
   ],
   "source": [
    "print(\"The data set consists of \"+str(df.shape[0])+\" rows and \"+str(df.shape[1])+\" columns (features).\")"
   ],
   "metadata": {
    "collapsed": false
   }
  },
  {
   "cell_type": "code",
   "execution_count": 7,
   "outputs": [
    {
     "data": {
      "text/plain": "CLIENTNUM                                                                                                                               int64\nAttrition_Flag                                                                                                                         object\nCustomer_Age                                                                                                                            int64\nGender                                                                                                                                 object\nDependent_count                                                                                                                         int64\nEducation_Level                                                                                                                        object\nMarital_Status                                                                                                                         object\nIncome_Category                                                                                                                        object\nCard_Category                                                                                                                          object\nMonths_on_book                                                                                                                          int64\nTotal_Relationship_Count                                                                                                                int64\nMonths_Inactive_12_mon                                                                                                                  int64\nContacts_Count_12_mon                                                                                                                   int64\nCredit_Limit                                                                                                                          float64\nTotal_Revolving_Bal                                                                                                                     int64\nAvg_Open_To_Buy                                                                                                                       float64\nTotal_Amt_Chng_Q4_Q1                                                                                                                  float64\nTotal_Trans_Amt                                                                                                                         int64\nTotal_Trans_Ct                                                                                                                          int64\nTotal_Ct_Chng_Q4_Q1                                                                                                                   float64\nAvg_Utilization_Ratio                                                                                                                 float64\nNaive_Bayes_Classifier_Attrition_Flag_Card_Category_Contacts_Count_12_mon_Dependent_count_Education_Level_Months_Inactive_12_mon_1    float64\nNaive_Bayes_Classifier_Attrition_Flag_Card_Category_Contacts_Count_12_mon_Dependent_count_Education_Level_Months_Inactive_12_mon_2    float64\ndtype: object"
     },
     "execution_count": 7,
     "metadata": {},
     "output_type": "execute_result"
    }
   ],
   "source": [
    "df.dtypes"
   ],
   "metadata": {
    "collapsed": false
   }
  },
  {
   "cell_type": "code",
   "execution_count": 11,
   "outputs": [
    {
     "data": {
      "text/plain": "          CLIENTNUM  Customer_Age  Dependent_count  Months_on_book  \\\ncount  1.012700e+04  10127.000000     10127.000000    10127.000000   \nmean   7.391776e+08     46.325960         2.346203       35.928409   \nstd    3.690378e+07      8.016814         1.298908        7.986416   \nmin    7.080821e+08     26.000000         0.000000       13.000000   \n25%    7.130368e+08     41.000000         1.000000       31.000000   \n50%    7.179264e+08     46.000000         2.000000       36.000000   \n75%    7.731435e+08     52.000000         3.000000       40.000000   \nmax    8.283431e+08     73.000000         5.000000       56.000000   \n\n       Total_Relationship_Count  Months_Inactive_12_mon  \\\ncount              10127.000000            10127.000000   \nmean                   3.812580                2.341167   \nstd                    1.554408                1.010622   \nmin                    1.000000                0.000000   \n25%                    3.000000                2.000000   \n50%                    4.000000                2.000000   \n75%                    5.000000                3.000000   \nmax                    6.000000                6.000000   \n\n       Contacts_Count_12_mon  Credit_Limit  Total_Revolving_Bal  \\\ncount           10127.000000  10127.000000         10127.000000   \nmean                2.455317   8631.953698          1162.814061   \nstd                 1.106225   9088.776650           814.987335   \nmin                 0.000000   1438.300000             0.000000   \n25%                 2.000000   2555.000000           359.000000   \n50%                 2.000000   4549.000000          1276.000000   \n75%                 3.000000  11067.500000          1784.000000   \nmax                 6.000000  34516.000000          2517.000000   \n\n       Avg_Open_To_Buy  Total_Amt_Chng_Q4_Q1  Total_Trans_Amt  Total_Trans_Ct  \\\ncount     10127.000000          10127.000000     10127.000000    10127.000000   \nmean       7469.139637              0.759941      4404.086304       64.858695   \nstd        9090.685324              0.219207      3397.129254       23.472570   \nmin           3.000000              0.000000       510.000000       10.000000   \n25%        1324.500000              0.631000      2155.500000       45.000000   \n50%        3474.000000              0.736000      3899.000000       67.000000   \n75%        9859.000000              0.859000      4741.000000       81.000000   \nmax       34516.000000              3.397000     18484.000000      139.000000   \n\n       Total_Ct_Chng_Q4_Q1  Avg_Utilization_Ratio  \\\ncount         10127.000000           10127.000000   \nmean              0.712222               0.274894   \nstd               0.238086               0.275691   \nmin               0.000000               0.000000   \n25%               0.582000               0.023000   \n50%               0.702000               0.176000   \n75%               0.818000               0.503000   \nmax               3.714000               0.999000   \n\n       Naive_Bayes_Classifier_Attrition_Flag_Card_Category_Contacts_Count_12_mon_Dependent_count_Education_Level_Months_Inactive_12_mon_1  \\\ncount                                       10127.000000                                                                                    \nmean                                            0.159997                                                                                    \nstd                                             0.365301                                                                                    \nmin                                             0.000008                                                                                    \n25%                                             0.000099                                                                                    \n50%                                             0.000181                                                                                    \n75%                                             0.000337                                                                                    \nmax                                             0.999580                                                                                    \n\n       Naive_Bayes_Classifier_Attrition_Flag_Card_Category_Contacts_Count_12_mon_Dependent_count_Education_Level_Months_Inactive_12_mon_2  \ncount                                       10127.000000                                                                                   \nmean                                            0.840003                                                                                   \nstd                                             0.365301                                                                                   \nmin                                             0.000420                                                                                   \n25%                                             0.999660                                                                                   \n50%                                             0.999820                                                                                   \n75%                                             0.999900                                                                                   \nmax                                             0.999990                                                                                   ",
      "text/html": "<div>\n<style scoped>\n    .dataframe tbody tr th:only-of-type {\n        vertical-align: middle;\n    }\n\n    .dataframe tbody tr th {\n        vertical-align: top;\n    }\n\n    .dataframe thead th {\n        text-align: right;\n    }\n</style>\n<table border=\"1\" class=\"dataframe\">\n  <thead>\n    <tr style=\"text-align: right;\">\n      <th></th>\n      <th>CLIENTNUM</th>\n      <th>Customer_Age</th>\n      <th>Dependent_count</th>\n      <th>Months_on_book</th>\n      <th>Total_Relationship_Count</th>\n      <th>Months_Inactive_12_mon</th>\n      <th>Contacts_Count_12_mon</th>\n      <th>Credit_Limit</th>\n      <th>Total_Revolving_Bal</th>\n      <th>Avg_Open_To_Buy</th>\n      <th>Total_Amt_Chng_Q4_Q1</th>\n      <th>Total_Trans_Amt</th>\n      <th>Total_Trans_Ct</th>\n      <th>Total_Ct_Chng_Q4_Q1</th>\n      <th>Avg_Utilization_Ratio</th>\n      <th>Naive_Bayes_Classifier_Attrition_Flag_Card_Category_Contacts_Count_12_mon_Dependent_count_Education_Level_Months_Inactive_12_mon_1</th>\n      <th>Naive_Bayes_Classifier_Attrition_Flag_Card_Category_Contacts_Count_12_mon_Dependent_count_Education_Level_Months_Inactive_12_mon_2</th>\n    </tr>\n  </thead>\n  <tbody>\n    <tr>\n      <th>count</th>\n      <td>1.012700e+04</td>\n      <td>10127.000000</td>\n      <td>10127.000000</td>\n      <td>10127.000000</td>\n      <td>10127.000000</td>\n      <td>10127.000000</td>\n      <td>10127.000000</td>\n      <td>10127.000000</td>\n      <td>10127.000000</td>\n      <td>10127.000000</td>\n      <td>10127.000000</td>\n      <td>10127.000000</td>\n      <td>10127.000000</td>\n      <td>10127.000000</td>\n      <td>10127.000000</td>\n      <td>10127.000000</td>\n      <td>10127.000000</td>\n    </tr>\n    <tr>\n      <th>mean</th>\n      <td>7.391776e+08</td>\n      <td>46.325960</td>\n      <td>2.346203</td>\n      <td>35.928409</td>\n      <td>3.812580</td>\n      <td>2.341167</td>\n      <td>2.455317</td>\n      <td>8631.953698</td>\n      <td>1162.814061</td>\n      <td>7469.139637</td>\n      <td>0.759941</td>\n      <td>4404.086304</td>\n      <td>64.858695</td>\n      <td>0.712222</td>\n      <td>0.274894</td>\n      <td>0.159997</td>\n      <td>0.840003</td>\n    </tr>\n    <tr>\n      <th>std</th>\n      <td>3.690378e+07</td>\n      <td>8.016814</td>\n      <td>1.298908</td>\n      <td>7.986416</td>\n      <td>1.554408</td>\n      <td>1.010622</td>\n      <td>1.106225</td>\n      <td>9088.776650</td>\n      <td>814.987335</td>\n      <td>9090.685324</td>\n      <td>0.219207</td>\n      <td>3397.129254</td>\n      <td>23.472570</td>\n      <td>0.238086</td>\n      <td>0.275691</td>\n      <td>0.365301</td>\n      <td>0.365301</td>\n    </tr>\n    <tr>\n      <th>min</th>\n      <td>7.080821e+08</td>\n      <td>26.000000</td>\n      <td>0.000000</td>\n      <td>13.000000</td>\n      <td>1.000000</td>\n      <td>0.000000</td>\n      <td>0.000000</td>\n      <td>1438.300000</td>\n      <td>0.000000</td>\n      <td>3.000000</td>\n      <td>0.000000</td>\n      <td>510.000000</td>\n      <td>10.000000</td>\n      <td>0.000000</td>\n      <td>0.000000</td>\n      <td>0.000008</td>\n      <td>0.000420</td>\n    </tr>\n    <tr>\n      <th>25%</th>\n      <td>7.130368e+08</td>\n      <td>41.000000</td>\n      <td>1.000000</td>\n      <td>31.000000</td>\n      <td>3.000000</td>\n      <td>2.000000</td>\n      <td>2.000000</td>\n      <td>2555.000000</td>\n      <td>359.000000</td>\n      <td>1324.500000</td>\n      <td>0.631000</td>\n      <td>2155.500000</td>\n      <td>45.000000</td>\n      <td>0.582000</td>\n      <td>0.023000</td>\n      <td>0.000099</td>\n      <td>0.999660</td>\n    </tr>\n    <tr>\n      <th>50%</th>\n      <td>7.179264e+08</td>\n      <td>46.000000</td>\n      <td>2.000000</td>\n      <td>36.000000</td>\n      <td>4.000000</td>\n      <td>2.000000</td>\n      <td>2.000000</td>\n      <td>4549.000000</td>\n      <td>1276.000000</td>\n      <td>3474.000000</td>\n      <td>0.736000</td>\n      <td>3899.000000</td>\n      <td>67.000000</td>\n      <td>0.702000</td>\n      <td>0.176000</td>\n      <td>0.000181</td>\n      <td>0.999820</td>\n    </tr>\n    <tr>\n      <th>75%</th>\n      <td>7.731435e+08</td>\n      <td>52.000000</td>\n      <td>3.000000</td>\n      <td>40.000000</td>\n      <td>5.000000</td>\n      <td>3.000000</td>\n      <td>3.000000</td>\n      <td>11067.500000</td>\n      <td>1784.000000</td>\n      <td>9859.000000</td>\n      <td>0.859000</td>\n      <td>4741.000000</td>\n      <td>81.000000</td>\n      <td>0.818000</td>\n      <td>0.503000</td>\n      <td>0.000337</td>\n      <td>0.999900</td>\n    </tr>\n    <tr>\n      <th>max</th>\n      <td>8.283431e+08</td>\n      <td>73.000000</td>\n      <td>5.000000</td>\n      <td>56.000000</td>\n      <td>6.000000</td>\n      <td>6.000000</td>\n      <td>6.000000</td>\n      <td>34516.000000</td>\n      <td>2517.000000</td>\n      <td>34516.000000</td>\n      <td>3.397000</td>\n      <td>18484.000000</td>\n      <td>139.000000</td>\n      <td>3.714000</td>\n      <td>0.999000</td>\n      <td>0.999580</td>\n      <td>0.999990</td>\n    </tr>\n  </tbody>\n</table>\n</div>"
     },
     "execution_count": 11,
     "metadata": {},
     "output_type": "execute_result"
    }
   ],
   "source": [
    "df.describe()"
   ],
   "metadata": {
    "collapsed": false
   }
  },
  {
   "cell_type": "markdown",
   "source": [
    "### Target Variable\n",
    "The target variable is \"Attrition Flag\".  A \"churned\" customer is considered as someone who is an \"Attritted Customer\".  Otherwise, the customer would be an \"existing customer\"."
   ],
   "metadata": {
    "collapsed": false
   }
  },
  {
   "cell_type": "markdown",
   "source": [
    "## Data Visualization"
   ],
   "metadata": {
    "collapsed": false
   }
  },
  {
   "cell_type": "markdown",
   "source": [
    "## Data Cleaning & Pre-Processing"
   ],
   "metadata": {
    "collapsed": false
   }
  },
  {
   "cell_type": "markdown",
   "source": [
    "## Dimension Reduction (PCA)"
   ],
   "metadata": {
    "collapsed": false
   }
  },
  {
   "cell_type": "markdown",
   "source": [
    "## Preparing the Train, Test, & Validation Data"
   ],
   "metadata": {
    "collapsed": false
   }
  },
  {
   "cell_type": "markdown",
   "source": [
    "## Logistic Regression Classifier"
   ],
   "metadata": {
    "collapsed": false
   }
  },
  {
   "cell_type": "markdown",
   "source": [
    "## K-Nearest Neighbors"
   ],
   "metadata": {
    "collapsed": false
   }
  },
  {
   "cell_type": "markdown",
   "source": [
    "## Random Forest Classifier"
   ],
   "metadata": {
    "collapsed": false
   }
  },
  {
   "cell_type": "markdown",
   "source": [
    "## Gradient Boost"
   ],
   "metadata": {
    "collapsed": false
   }
  },
  {
   "cell_type": "markdown",
   "source": [
    "## Ada Boost"
   ],
   "metadata": {
    "collapsed": false
   }
  },
  {
   "cell_type": "code",
   "execution_count": null,
   "outputs": [],
   "source": [],
   "metadata": {
    "collapsed": false
   }
  }
 ],
 "metadata": {
  "kernelspec": {
   "display_name": "Python 3",
   "language": "python",
   "name": "python3"
  },
  "language_info": {
   "codemirror_mode": {
    "name": "ipython",
    "version": 2
   },
   "file_extension": ".py",
   "mimetype": "text/x-python",
   "name": "python",
   "nbconvert_exporter": "python",
   "pygments_lexer": "ipython2",
   "version": "2.7.6"
  }
 },
 "nbformat": 4,
 "nbformat_minor": 0
}
